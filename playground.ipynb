{
 "cells": [
  {
   "cell_type": "code",
   "execution_count": 1,
   "metadata": {},
   "outputs": [
    {
     "name": "stderr",
     "output_type": "stream",
     "text": [
      "c:\\Users\\ASUS\\AppData\\Local\\Programs\\Python\\Python38\\lib\\site-packages\\sentence_transformers\\cross_encoder\\CrossEncoder.py:11: TqdmWarning: IProgress not found. Please update jupyter and ipywidgets. See https://ipywidgets.readthedocs.io/en/stable/user_install.html\n",
      "  from tqdm.autonotebook import tqdm, trange\n"
     ]
    }
   ],
   "source": [
    "import pandas as pd\n",
    "import numpy as np\n",
    "from sentence_transformers import SentenceTransformer\n",
    "import warnings\n",
    "import faiss\n",
    "import os\n",
    "\n",
    "def warn(*args, **kwargs):\n",
    "    pass\n",
    "warnings.warn = warn"
   ]
  },
  {
   "cell_type": "code",
   "execution_count": 2,
   "metadata": {},
   "outputs": [],
   "source": [
    "# CONSTANT\n",
    "\n",
    "DATA_DIR = \"data/\"\n",
    "DATA_PATH = os.path.join(DATA_DIR, \"data.csv\")\n",
    "INDEX_PATH = os.path.join(DATA_DIR, \"karya.index\")\n",
    "os.environ[\"KMP_DUPLICATE_LIB_OK\"]=\"TRUE\""
   ]
  },
  {
   "cell_type": "code",
   "execution_count": 3,
   "metadata": {},
   "outputs": [],
   "source": [
    "data = pd.read_csv(DATA_PATH)"
   ]
  },
  {
   "cell_type": "code",
   "execution_count": 4,
   "metadata": {},
   "outputs": [
    {
     "data": {
      "text/html": [
       "<div>\n",
       "<style scoped>\n",
       "    .dataframe tbody tr th:only-of-type {\n",
       "        vertical-align: middle;\n",
       "    }\n",
       "\n",
       "    .dataframe tbody tr th {\n",
       "        vertical-align: top;\n",
       "    }\n",
       "\n",
       "    .dataframe thead th {\n",
       "        text-align: right;\n",
       "    }\n",
       "</style>\n",
       "<table border=\"1\" class=\"dataframe\">\n",
       "  <thead>\n",
       "    <tr style=\"text-align: right;\">\n",
       "      <th></th>\n",
       "      <th>idx</th>\n",
       "      <th>uuid</th>\n",
       "      <th>key</th>\n",
       "    </tr>\n",
       "  </thead>\n",
       "  <tbody>\n",
       "    <tr>\n",
       "      <th>0</th>\n",
       "      <td>1</td>\n",
       "      <td>Cinta yang Tak Pernah Pudar</td>\n",
       "      <td>Cinta yang Tak Pernah Pudar oleh Anita Dewi. K...</td>\n",
       "    </tr>\n",
       "    <tr>\n",
       "      <th>1</th>\n",
       "      <td>2</td>\n",
       "      <td>Petualangan di Bumi Tengah</td>\n",
       "      <td>Petualangan di Bumi Tengah oleh Joko Susilo. S...</td>\n",
       "    </tr>\n",
       "    <tr>\n",
       "      <th>2</th>\n",
       "      <td>3</td>\n",
       "      <td>Rahasia Alam Semesta</td>\n",
       "      <td>Rahasia Alam Semesta oleh Siti Rahayu. Menguak...</td>\n",
       "    </tr>\n",
       "    <tr>\n",
       "      <th>3</th>\n",
       "      <td>4</td>\n",
       "      <td>Dunia Tanpa Akhir</td>\n",
       "      <td>Dunia Tanpa Akhir oleh Budi Santoso. Dalam dun...</td>\n",
       "    </tr>\n",
       "    <tr>\n",
       "      <th>4</th>\n",
       "      <td>5</td>\n",
       "      <td>Melodi Senja</td>\n",
       "      <td>Melodi Senja oleh Dian Pratiwi. Sebuah kumpula...</td>\n",
       "    </tr>\n",
       "    <tr>\n",
       "      <th>5</th>\n",
       "      <td>6</td>\n",
       "      <td>Perangkap Waktu</td>\n",
       "      <td>Perangkap Waktu oleh Ahmad Surya. Ditawan dala...</td>\n",
       "    </tr>\n",
       "    <tr>\n",
       "      <th>6</th>\n",
       "      <td>7</td>\n",
       "      <td>Mimpi di Tepi Laut</td>\n",
       "      <td>Mimpi di Tepi Laut oleh Rani Wijaya. Cerita te...</td>\n",
       "    </tr>\n",
       "    <tr>\n",
       "      <th>7</th>\n",
       "      <td>8</td>\n",
       "      <td>Cahaya Dalam Kegelapan</td>\n",
       "      <td>Cahaya Dalam Kegelapan oleh Ani Susanti. Sebua...</td>\n",
       "    </tr>\n",
       "    <tr>\n",
       "      <th>8</th>\n",
       "      <td>9</td>\n",
       "      <td>Pergulatan Jiwa</td>\n",
       "      <td>Pergulatan Jiwa oleh Eka Putra. Kisah tentang ...</td>\n",
       "    </tr>\n",
       "    <tr>\n",
       "      <th>9</th>\n",
       "      <td>10</td>\n",
       "      <td>Rahasia Sang Pencipta</td>\n",
       "      <td>Rahasia Sang Pencipta oleh Fitri Indah. Mengun...</td>\n",
       "    </tr>\n",
       "    <tr>\n",
       "      <th>10</th>\n",
       "      <td>11</td>\n",
       "      <td>Pulang ke Bumi</td>\n",
       "      <td>Pulang ke Bumi oleh Andi Wijaya. Petualangan l...</td>\n",
       "    </tr>\n",
       "    <tr>\n",
       "      <th>11</th>\n",
       "      <td>12</td>\n",
       "      <td>Jejak Langkah</td>\n",
       "      <td>Jejak Langkah oleh Rini Setiawati. Memoar tent...</td>\n",
       "    </tr>\n",
       "    <tr>\n",
       "      <th>12</th>\n",
       "      <td>13</td>\n",
       "      <td>Pergulatan Batin</td>\n",
       "      <td>Pergulatan Batin oleh Agung Prabowo. Melalui p...</td>\n",
       "    </tr>\n",
       "    <tr>\n",
       "      <th>13</th>\n",
       "      <td>14</td>\n",
       "      <td>Dunia dalam Genggaman</td>\n",
       "      <td>Dunia dalam Genggaman oleh Nurul Huda. Kumpula...</td>\n",
       "    </tr>\n",
       "    <tr>\n",
       "      <th>14</th>\n",
       "      <td>15</td>\n",
       "      <td>Langit di Mata</td>\n",
       "      <td>Langit di Mata oleh Dewi Cahaya. Sebuah novel ...</td>\n",
       "    </tr>\n",
       "    <tr>\n",
       "      <th>15</th>\n",
       "      <td>16</td>\n",
       "      <td>Misteri Pulau Terlarang</td>\n",
       "      <td>Misteri Pulau Terlarang oleh Dini Aulia. Sebua...</td>\n",
       "    </tr>\n",
       "    <tr>\n",
       "      <th>16</th>\n",
       "      <td>17</td>\n",
       "      <td>Titik Balik</td>\n",
       "      <td>Titik Balik oleh Anwar Pratama. Sebuah kisah i...</td>\n",
       "    </tr>\n",
       "    <tr>\n",
       "      <th>17</th>\n",
       "      <td>18</td>\n",
       "      <td>Kehidupan di Antara Bintang</td>\n",
       "      <td>Kehidupan di Antara Bintang oleh Faisal Rahman...</td>\n",
       "    </tr>\n",
       "    <tr>\n",
       "      <th>18</th>\n",
       "      <td>19</td>\n",
       "      <td>Harmoni Alam</td>\n",
       "      <td>Harmoni Alam oleh Retno Wulandari. Mengungkap ...</td>\n",
       "    </tr>\n",
       "    <tr>\n",
       "      <th>19</th>\n",
       "      <td>20</td>\n",
       "      <td>Petualangan di Alam Liar</td>\n",
       "      <td>Petualangan di Alam Liar oleh Bambang Wijaya. ...</td>\n",
       "    </tr>\n",
       "  </tbody>\n",
       "</table>\n",
       "</div>"
      ],
      "text/plain": [
       "    idx                         uuid  \\\n",
       "0     1  Cinta yang Tak Pernah Pudar   \n",
       "1     2   Petualangan di Bumi Tengah   \n",
       "2     3         Rahasia Alam Semesta   \n",
       "3     4            Dunia Tanpa Akhir   \n",
       "4     5                 Melodi Senja   \n",
       "5     6              Perangkap Waktu   \n",
       "6     7           Mimpi di Tepi Laut   \n",
       "7     8       Cahaya Dalam Kegelapan   \n",
       "8     9              Pergulatan Jiwa   \n",
       "9    10        Rahasia Sang Pencipta   \n",
       "10   11               Pulang ke Bumi   \n",
       "11   12                Jejak Langkah   \n",
       "12   13             Pergulatan Batin   \n",
       "13   14        Dunia dalam Genggaman   \n",
       "14   15               Langit di Mata   \n",
       "15   16      Misteri Pulau Terlarang   \n",
       "16   17                  Titik Balik   \n",
       "17   18  Kehidupan di Antara Bintang   \n",
       "18   19                 Harmoni Alam   \n",
       "19   20     Petualangan di Alam Liar   \n",
       "\n",
       "                                                  key  \n",
       "0   Cinta yang Tak Pernah Pudar oleh Anita Dewi. K...  \n",
       "1   Petualangan di Bumi Tengah oleh Joko Susilo. S...  \n",
       "2   Rahasia Alam Semesta oleh Siti Rahayu. Menguak...  \n",
       "3   Dunia Tanpa Akhir oleh Budi Santoso. Dalam dun...  \n",
       "4   Melodi Senja oleh Dian Pratiwi. Sebuah kumpula...  \n",
       "5   Perangkap Waktu oleh Ahmad Surya. Ditawan dala...  \n",
       "6   Mimpi di Tepi Laut oleh Rani Wijaya. Cerita te...  \n",
       "7   Cahaya Dalam Kegelapan oleh Ani Susanti. Sebua...  \n",
       "8   Pergulatan Jiwa oleh Eka Putra. Kisah tentang ...  \n",
       "9   Rahasia Sang Pencipta oleh Fitri Indah. Mengun...  \n",
       "10  Pulang ke Bumi oleh Andi Wijaya. Petualangan l...  \n",
       "11  Jejak Langkah oleh Rini Setiawati. Memoar tent...  \n",
       "12  Pergulatan Batin oleh Agung Prabowo. Melalui p...  \n",
       "13  Dunia dalam Genggaman oleh Nurul Huda. Kumpula...  \n",
       "14  Langit di Mata oleh Dewi Cahaya. Sebuah novel ...  \n",
       "15  Misteri Pulau Terlarang oleh Dini Aulia. Sebua...  \n",
       "16  Titik Balik oleh Anwar Pratama. Sebuah kisah i...  \n",
       "17  Kehidupan di Antara Bintang oleh Faisal Rahman...  \n",
       "18  Harmoni Alam oleh Retno Wulandari. Mengungkap ...  \n",
       "19  Petualangan di Alam Liar oleh Bambang Wijaya. ...  "
      ]
     },
     "execution_count": 4,
     "metadata": {},
     "output_type": "execute_result"
    }
   ],
   "source": [
    "data"
   ]
  },
  {
   "cell_type": "code",
   "execution_count": 5,
   "metadata": {},
   "outputs": [],
   "source": [
    "model = SentenceTransformer('sentence-transformers/distiluse-base-multilingual-cased-v2')"
   ]
  },
  {
   "cell_type": "code",
   "execution_count": 6,
   "metadata": {},
   "outputs": [],
   "source": [
    "encoded_data = model.encode(data.key.tolist())\n",
    "encoded_data = np.asarray(encoded_data.astype('float32'))\n",
    "index = faiss.IndexIDMap(faiss.IndexFlatIP(512))\n",
    "index.add_with_ids(encoded_data, np.array(data.idx.tolist()))\n",
    "faiss.write_index(index, INDEX_PATH)"
   ]
  },
  {
   "cell_type": "code",
   "execution_count": 7,
   "metadata": {},
   "outputs": [],
   "source": [
    "def fetch_karya(dataframe_idx):\n",
    "    info = data[data.idx == dataframe_idx]\n",
    "    meta = dict()\n",
    "    meta['uuid'] = info['uuid']\n",
    "    return meta\n",
    "    \n",
    "def search(query, top_k, index, model):\n",
    "    query_vector = model.encode([query])\n",
    "    top_k = index.search(query_vector, top_k)\n",
    "    result_id = top_k[1].tolist()[0]\n",
    "    result_id = list(np.unique(result_id))\n",
    "    results =  [fetch_karya(idx) for idx in result_id]\n",
    "    return results"
   ]
  },
  {
   "cell_type": "code",
   "execution_count": 8,
   "metadata": {},
   "outputs": [
    {
     "name": "stdout",
     "output_type": "stream",
     "text": [
      "\n",
      "\n",
      "\t {'uuid': 13    Dunia dalam Genggaman\n",
      "Name: uuid, dtype: object}\n",
      "\t {'uuid': 19    Petualangan di Alam Liar\n",
      "Name: uuid, dtype: object}\n"
     ]
    }
   ],
   "source": [
    "query=\"Liar\"\n",
    "results=search(query, top_k=2, index=index, model=model)\n",
    "print(\"\\n\")\n",
    "for result in results:\n",
    "    print('\\t',result)"
   ]
  },
  {
   "cell_type": "code",
   "execution_count": 9,
   "metadata": {},
   "outputs": [],
   "source": [
    "def add_karya(uuid, text):\n",
    "    global data\n",
    "    new_idx = data.iloc[-1][\"idx\"]+1\n",
    "    encoded_data = model.encode([text])\n",
    "    encoded_data = np.asarray(encoded_data.astype('float32'))\n",
    "    index.add_with_ids(encoded_data,  np.array([new_idx]))\n",
    "    faiss.write_index(index, INDEX_PATH)\n",
    "\n",
    "    new_record = pd.DataFrame({'idx': new_idx, 'uuid': [uuid], 'key': [text]})\n",
    "\n",
    "    # Concatenate the new record to the DataFrame\n",
    "    data = pd.concat([data, new_record], ignore_index=True)\n",
    "    data.to_csv(DATA_PATH, index=False)"
   ]
  },
  {
   "cell_type": "code",
   "execution_count": 10,
   "metadata": {},
   "outputs": [],
   "source": [
    "add_karya(\"Petualangan di Alam Liar\",\"Petualangan di Alam Liar oleh Bambang Wijaya. Menjelajahi keindahan dan tantangan alam liar, menghadapi hewan-hewan buas dan mengungkap misteri di balik kehidupan liar. Genre: Petualangan, Alam Liar\")\n",
    "# \"Petualangan di Alam Liar\",\"Petualangan di Alam Liar oleh Bambang Wijaya. Menjelajahi keindahan dan tantangan alam liar, menghadapi hewan-hewan buas dan mengungkap misteri di balik kehidupan liar. Genre: Petualangan, Alam Liar\""
   ]
  },
  {
   "cell_type": "code",
   "execution_count": 11,
   "metadata": {},
   "outputs": [
    {
     "name": "stdout",
     "output_type": "stream",
     "text": [
      "\n",
      "\n",
      "\t {'uuid': 13    Dunia dalam Genggaman\n",
      "Name: uuid, dtype: object}\n",
      "\t {'uuid': 19    Petualangan di Alam Liar\n",
      "Name: uuid, dtype: object}\n"
     ]
    }
   ],
   "source": [
    "query=\"Liar\"\n",
    "results=search(query, top_k=2, index=index, model=model)\n",
    "print(\"\\n\")\n",
    "for result in results:\n",
    "    print('\\t',result)"
   ]
  },
  {
   "cell_type": "code",
   "execution_count": 12,
   "metadata": {},
   "outputs": [],
   "source": [
    "# model.save(\"./model\")"
   ]
  }
 ],
 "metadata": {
  "kernelspec": {
   "display_name": "Python 3",
   "language": "python",
   "name": "python3"
  },
  "language_info": {
   "codemirror_mode": {
    "name": "ipython",
    "version": 3
   },
   "file_extension": ".py",
   "mimetype": "text/x-python",
   "name": "python",
   "nbconvert_exporter": "python",
   "pygments_lexer": "ipython3",
   "version": "3.8.10"
  }
 },
 "nbformat": 4,
 "nbformat_minor": 2
}
